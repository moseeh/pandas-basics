{
 "cells": [
  {
   "cell_type": "code",
   "execution_count": 1,
   "id": "4ce9e4b4-0e48-4c0d-971c-f742ffbddaee",
   "metadata": {},
   "outputs": [],
   "source": [
    "import pandas as pd\n",
    "import numpy as np"
   ]
  },
  {
   "cell_type": "code",
   "execution_count": 3,
   "id": "bccf5980-f4ac-495b-849a-c714034ec8b2",
   "metadata": {},
   "outputs": [
    {
     "name": "stdout",
     "output_type": "stream",
     "text": [
      "[['Blue' list([1, 2]) 1.1]\n",
      " ['Red' list([3, 4]) 2.2]\n",
      " ['Pink' list([5, 6]) 3.3]\n",
      " ['Grey' list([7, 8]) 4.4]\n",
      " ['Black' list([9, 10]) 5.5]]\n"
     ]
    }
   ],
   "source": [
    "data = np.array([\n",
    "    [\"Blue\", [1,2], 1.1],\n",
    "    [\"Red\",  [3,4], 2.2],\n",
    "    [\"Pink\", [5,6], 3.3],\n",
    "    [\"Grey\", [7,8], 4.4],\n",
    "    [\"Black\",[9,10], 5.5],\n",
    "], dtype=object)\n",
    "print(data)"
   ]
  },
  {
   "cell_type": "code",
   "execution_count": 4,
   "id": "d4f03011-e392-4528-bffe-d29fa1ec52da",
   "metadata": {},
   "outputs": [],
   "source": [
    "index = [1,3,5,7,9]"
   ]
  },
  {
   "cell_type": "code",
   "execution_count": 5,
   "id": "2e731dde-c377-4742-9d09-3b088d15e34d",
   "metadata": {},
   "outputs": [
    {
     "name": "stdout",
     "output_type": "stream",
     "text": [
      "[1, 3, 5, 7, 9]\n"
     ]
    }
   ],
   "source": [
    "print(index)"
   ]
  },
  {
   "cell_type": "code",
   "execution_count": 6,
   "id": "93dd2314-d4e2-4d56-8f41-b51e5af78693",
   "metadata": {},
   "outputs": [
    {
     "name": "stdout",
     "output_type": "stream",
     "text": [
      "['color', 'list', 'number']\n"
     ]
    }
   ],
   "source": [
    "columns= [\"color\", \"list\", \"number\"]\n",
    "print(columns)"
   ]
  },
  {
   "cell_type": "code",
   "execution_count": 9,
   "id": "8c661664-85b8-4f37-b025-3fad8a018dca",
   "metadata": {},
   "outputs": [
    {
     "name": "stdout",
     "output_type": "stream",
     "text": [
      "   color     list number\n",
      "1   Blue   [1, 2]    1.1\n",
      "3    Red   [3, 4]    2.2\n",
      "5   Pink   [5, 6]    3.3\n",
      "7   Grey   [7, 8]    4.4\n",
      "9  Black  [9, 10]    5.5\n"
     ]
    }
   ],
   "source": [
    "# Dataframe from a numpy array\n",
    "dataframe1 = pd.DataFrame(data, columns=columns, index=index)\n",
    "print(dataframe1)"
   ]
  },
  {
   "cell_type": "code",
   "execution_count": 10,
   "id": "1410383d-e9cf-43ef-8d45-f4dcd9fc0bfd",
   "metadata": {},
   "outputs": [],
   "source": [
    "# Dataframe from a pandas series \n",
    "colors = pd.Series([\"Blue\", \"Red\", \"Pink\", \"Grey\", \"Black\"], index=index)\n",
    "lists = pd.Series([[1,2], [3,4], [5,6], [7,8], [9,10]], index=index)\n",
    "numbers = pd.Series([1.1,2.2,3.3,4.4,5.5], index=index)"
   ]
  },
  {
   "cell_type": "code",
   "execution_count": 11,
   "id": "6cd6cddf-f9a2-4947-a98c-8ae8eb37a0d2",
   "metadata": {},
   "outputs": [
    {
     "name": "stdout",
     "output_type": "stream",
     "text": [
      "   color     list  number\n",
      "1   Blue   [1, 2]     1.1\n",
      "3    Red   [3, 4]     2.2\n",
      "5   Pink   [5, 6]     3.3\n",
      "7   Grey   [7, 8]     4.4\n",
      "9  Black  [9, 10]     5.5\n"
     ]
    }
   ],
   "source": [
    "dataframe2 = pd.DataFrame({\n",
    "    \"color\": colors,\n",
    "    \"list\": lists, \n",
    "    \"number\": numbers\n",
    "})\n",
    "print(dataframe2)"
   ]
  },
  {
   "cell_type": "code",
   "execution_count": 14,
   "id": "b830a33d-44ed-4d94-9867-eff4a2b60b32",
   "metadata": {},
   "outputs": [
    {
     "name": "stdout",
     "output_type": "stream",
     "text": [
      "Column dtypes:\n",
      " color      object\n",
      "list       object\n",
      "number    float64\n",
      "dtype: object \n",
      "\n",
      "Type of first value in each column:\n",
      "color -> <class 'str'>\n",
      "list -> <class 'list'>\n",
      "number -> <class 'numpy.float64'>\n"
     ]
    }
   ],
   "source": [
    "print(\"Column dtypes:\\n\", dataframe2.dtypes, \"\\n\")\n",
    "\n",
    "print(\"Type of first value in each column:\")\n",
    "for col in dataframe2.columns:\n",
    "    print(col, \"->\", type(dataframe2[col].iloc[0]))\n"
   ]
  },
  {
   "cell_type": "code",
   "execution_count": null,
   "id": "ce870898-0084-4be5-8484-0319e8b990c3",
   "metadata": {},
   "outputs": [],
   "source": []
  }
 ],
 "metadata": {
  "kernelspec": {
   "display_name": "Python 3 (ipykernel)",
   "language": "python",
   "name": "python3"
  },
  "language_info": {
   "codemirror_mode": {
    "name": "ipython",
    "version": 3
   },
   "file_extension": ".py",
   "mimetype": "text/x-python",
   "name": "python",
   "nbconvert_exporter": "python",
   "pygments_lexer": "ipython3",
   "version": "3.12.3"
  }
 },
 "nbformat": 4,
 "nbformat_minor": 5
}
